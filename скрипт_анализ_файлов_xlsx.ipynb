{
  "nbformat": 4,
  "nbformat_minor": 0,
  "metadata": {
    "colab": {
      "provenance": [],
      "authorship_tag": "ABX9TyPtNLu/oquwOjeVpjwEYHex",
      "include_colab_link": true
    },
    "kernelspec": {
      "name": "python3",
      "display_name": "Python 3"
    },
    "language_info": {
      "name": "python"
    }
  },
  "cells": [
    {
      "cell_type": "markdown",
      "metadata": {
        "id": "view-in-github",
        "colab_type": "text"
      },
      "source": [
        "<a href=\"https://colab.research.google.com/github/Ekaterina-Kostina/Ekaterina-Kostina/blob/main/%D1%81%D0%BA%D1%80%D0%B8%D0%BF%D1%82_%D0%B0%D0%BD%D0%B0%D0%BB%D0%B8%D0%B7_%D1%84%D0%B0%D0%B9%D0%BB%D0%BE%D0%B2_xlsx.ipynb\" target=\"_parent\"><img src=\"https://colab.research.google.com/assets/colab-badge.svg\" alt=\"Open In Colab\"/></a>"
      ]
    },
    {
      "cell_type": "code",
      "source": [
        "import pandas as pd\n",
        "import os\n",
        "\n",
        "# Путь к папке с файлами\n",
        "folder_path = 'D:\\Документы\\Новая папка'  # Замените на фактический путь к вашим файлам\n",
        "\n",
        "# Пустой список для хранения данных\n",
        "all_data = []\n",
        "\n",
        "# Цикл по всем файлам в папке\n",
        "for filename in os.listdir(folder_path):\n",
        "    if filename.endswith(\".xlsx\"):  # Убедимся, что это файл Excel\n",
        "        file_path = os.path.join(folder_path, filename)  # Получаем полный путь к файлу\n",
        "\n",
        "        # Чтение данных из Excel\n",
        "        df = pd.read_excel(file_path, header=None)  # Читаем без заголовков (индексация начинается с 0)\n",
        "\n",
        "        # Извлечение данных из ячейки F1\n",
        "        f1_value = df.iloc[0, 5]  # Строка 1 (индекс 1), столбец 5 (индекс 5 для F)\n",
        "\n",
        "        # Извлечение данных из ячейки F6\n",
        "        f6_value = df.iloc[5, 5]  # Строка 16 (индекс 16), столбец 5 (индекс 5 для F)\n",
        "\n",
        "        # Добавляем данные в общий список\n",
        "        all_data.append([f1_value, f6_value])\n",
        "\n",
        "# Преобразуем список данных в DataFrame\n",
        "all_data_df = pd.DataFrame(all_data, columns=['F1', 'F6'])\n",
        "\n",
        "# Рассчитываем средние значения для каждого столбца\n",
        "averages = all_data_df.mean()\n",
        "\n",
        "# Выводим средние значения\n",
        "print(\"Средние значения по F1 и F6:\")\n",
        "print(averages)\n"
      ],
      "metadata": {
        "colab": {
          "base_uri": "https://localhost:8080/",
          "height": 237
        },
        "id": "DzBNyp86PfIT",
        "outputId": "c7344d1b-8f9d-403f-ecfc-aacb6298cbd4"
      },
      "execution_count": 3,
      "outputs": [
        {
          "output_type": "error",
          "ename": "NotADirectoryError",
          "evalue": "[Errno 20] Not a directory: '/content/Тест_матрица.xlsx'",
          "traceback": [
            "\u001b[0;31m---------------------------------------------------------------------------\u001b[0m",
            "\u001b[0;31mNotADirectoryError\u001b[0m                        Traceback (most recent call last)",
            "\u001b[0;32m<ipython-input-3-63ec88945c5d>\u001b[0m in \u001b[0;36m<cell line: 11>\u001b[0;34m()\u001b[0m\n\u001b[1;32m      9\u001b[0m \u001b[0;34m\u001b[0m\u001b[0m\n\u001b[1;32m     10\u001b[0m \u001b[0;31m# Цикл по всем файлам в папке\u001b[0m\u001b[0;34m\u001b[0m\u001b[0;34m\u001b[0m\u001b[0m\n\u001b[0;32m---> 11\u001b[0;31m \u001b[0;32mfor\u001b[0m \u001b[0mfilename\u001b[0m \u001b[0;32min\u001b[0m \u001b[0mos\u001b[0m\u001b[0;34m.\u001b[0m\u001b[0mlistdir\u001b[0m\u001b[0;34m(\u001b[0m\u001b[0mfolder_path\u001b[0m\u001b[0;34m)\u001b[0m\u001b[0;34m:\u001b[0m\u001b[0;34m\u001b[0m\u001b[0;34m\u001b[0m\u001b[0m\n\u001b[0m\u001b[1;32m     12\u001b[0m     \u001b[0;32mif\u001b[0m \u001b[0mfilename\u001b[0m\u001b[0;34m.\u001b[0m\u001b[0mendswith\u001b[0m\u001b[0;34m(\u001b[0m\u001b[0;34m\".xlsx\"\u001b[0m\u001b[0;34m)\u001b[0m\u001b[0;34m:\u001b[0m  \u001b[0;31m# Убедимся, что это файл Excel\u001b[0m\u001b[0;34m\u001b[0m\u001b[0;34m\u001b[0m\u001b[0m\n\u001b[1;32m     13\u001b[0m         \u001b[0mfile_path\u001b[0m \u001b[0;34m=\u001b[0m \u001b[0mos\u001b[0m\u001b[0;34m.\u001b[0m\u001b[0mpath\u001b[0m\u001b[0;34m.\u001b[0m\u001b[0mjoin\u001b[0m\u001b[0;34m(\u001b[0m\u001b[0mfolder_path\u001b[0m\u001b[0;34m,\u001b[0m \u001b[0mfilename\u001b[0m\u001b[0;34m)\u001b[0m  \u001b[0;31m# Получаем полный путь к файлу\u001b[0m\u001b[0;34m\u001b[0m\u001b[0;34m\u001b[0m\u001b[0m\n",
            "\u001b[0;31mNotADirectoryError\u001b[0m: [Errno 20] Not a directory: '/content/Тест_матрица.xlsx'"
          ]
        }
      ]
    }
  ]
}